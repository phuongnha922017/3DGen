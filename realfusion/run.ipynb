{
 "cells": [
  {
   "cell_type": "code",
   "execution_count": 7,
   "metadata": {},
   "outputs": [],
   "source": [
    "IMAGE_PATH = 'examples/natural-images/donut_2/donut.png'\n",
    "OUTPUT_DIR = 'examples/natural-images/donut_2'"
   ]
  },
  {
   "cell_type": "code",
   "execution_count": null,
   "metadata": {},
   "outputs": [
    {
     "data": {
      "text/plain": [
       "True"
      ]
     },
     "execution_count": 8,
     "metadata": {},
     "output_type": "execute_result"
    }
   ],
   "source": [
    "import os\n",
    "os.path.isfile(IMAGE_PATH)\n",
    "examples/natural-images/donut_2"
   ]
  },
  {
   "cell_type": "code",
   "execution_count": 9,
   "metadata": {},
   "outputs": [
    {
     "name": "stdout",
     "output_type": "stream",
     "text": [
      "Traceback (most recent call last):\n",
      "  File \"/home/vietai/miniconda3/envs/3dgen/lib/python3.10/pathlib.py\", line 1175, in mkdir\n",
      "    self._accessor.mkdir(self, mode)\n",
      "FileNotFoundError: [Errno 2] No such file or directory: '/natural-images/donut_2'\n",
      "\n",
      "During handling of the above exception, another exception occurred:\n",
      "\n",
      "Traceback (most recent call last):\n",
      "  File \"/home/vietai/Documents/nerf/realfusion/scripts/extract-mask.py\", line 114, in <module>\n",
      "    main(args)\n",
      "  File \"/home/vietai/Documents/nerf/realfusion/scripts/extract-mask.py\", line 44, in main\n",
      "    output_dir.mkdir(exist_ok=True, parents=True)\n",
      "  File \"/home/vietai/miniconda3/envs/3dgen/lib/python3.10/pathlib.py\", line 1179, in mkdir\n",
      "    self.parent.mkdir(parents=True, exist_ok=True)\n",
      "  File \"/home/vietai/miniconda3/envs/3dgen/lib/python3.10/pathlib.py\", line 1175, in mkdir\n",
      "    self._accessor.mkdir(self, mode)\n",
      "PermissionError: [Errno 13] Permission denied: '/natural-images'\n"
     ]
    }
   ],
   "source": [
    "#Extract mask\n",
    "!python scripts/extract-mask.py --image_path ${IMAGE_PATH} --output_dir ${OUTPUT_DIR}"
   ]
  },
  {
   "cell_type": "code",
   "execution_count": null,
   "metadata": {},
   "outputs": [],
   "source": []
  }
 ],
 "metadata": {
  "kernelspec": {
   "display_name": "3dgen",
   "language": "python",
   "name": "python3"
  },
  "language_info": {
   "codemirror_mode": {
    "name": "ipython",
    "version": 3
   },
   "file_extension": ".py",
   "mimetype": "text/x-python",
   "name": "python",
   "nbconvert_exporter": "python",
   "pygments_lexer": "ipython3",
   "version": "3.10.13"
  }
 },
 "nbformat": 4,
 "nbformat_minor": 2
}
